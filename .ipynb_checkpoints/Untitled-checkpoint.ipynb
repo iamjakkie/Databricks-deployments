{
 "cells": [
  {
   "cell_type": "markdown",
   "metadata": {},
   "source": [
    "# Initial Configuration"
   ]
  },
  {
   "cell_type": "code",
   "execution_count": null,
   "metadata": {},
   "outputs": [],
   "source": [
    "from databricks_api import DatabricksAPI\n",
    "db = DatabricksAPI(\n",
    "    host=\"https:/....\",\n",
    "    token=dbutils.secrets.get(scope = 'your-scope', key = 'your-key')) #I really recommend using keyvault for storing tokens"
   ]
  },
  {
   "cell_type": "markdown",
   "metadata": {},
   "source": [
    "## Helper functions"
   ]
  },
  {
   "cell_type": "code",
   "execution_count": null,
   "metadata": {},
   "outputs": [],
   "source": [
    "from datetime import datetime\n",
    "import json\n",
    "\n",
    "date=datetime.now().strftime('%Y-%m-%d-%H-%M-%S')\n",
    "\n",
    "editable_cluster_settings = ['num_workers', 'autoscale', 'cluster_name', 'spark_version', 'spark_conf',\n",
    "                            'node_type_id', 'driver_node_type_id', 'custom_tags', 'cluster_log_conf', \n",
    "                            'init_scripts', 'spark_env_vars', 'autotermination_minutes', 'enable_elastic_disk']\n",
    "\n",
    "def get_cluster_info(cluster_id):\n",
    "    \"\"\"\n",
    "    \"\"\"\n",
    "    return db.clusuter.get_cluster(cluster_id=cluster_id)\n",
    "\n",
    "def get_jobs_for_cluster(cluster_id):\n",
    "    all_jobs = db.jobs.list_jobs()\n",
    "    jobs = {}\n",
    "    for item in all_jobs['jobs']:\n",
    "        settings=item['settings']\n",
    "        if 'existing_cluster_id' in settings.keys():\n",
    "            if settings['existing_cluster_id']==cluster_id:\n",
    "                jobs[item['job_id']]=settings\n",
    "    return jobs\n",
    "\n",
    "def switch_jobs_state(jobs_dict, state):\n",
    "    if state in ['PAUSED', 'UNPAUSED']:\n",
    "        for job_id, settings in jobs_dict.items():\n",
    "            save_settings('backup', 'job', job_id, settings)\n",
    "            settings['schedule']['pause_status']=state\n",
    "            db.jobs.reset_job(job_id=job_id, new_settings=settings)\n",
    "            save_settings('new', 'job', job_id, settings)\n",
    "    else:\n",
    "        print(\"Wrong state provided\")\n",
    "        \n",
    "def edit_cluster(cluster_id, **kwargs):\n",
    "    try:\n",
    "        cur_settings = get_cluster_info(cluster_id)\n",
    "        save_settings('backup', 'cluster', cluster_id, cur_settings)"
   ]
  }
 ],
 "metadata": {
  "kernelspec": {
   "display_name": "Python 3",
   "language": "python",
   "name": "python3"
  },
  "language_info": {
   "codemirror_mode": {
    "name": "ipython",
    "version": 3
   },
   "file_extension": ".py",
   "mimetype": "text/x-python",
   "name": "python",
   "nbconvert_exporter": "python",
   "pygments_lexer": "ipython3",
   "version": "3.8.3"
  }
 },
 "nbformat": 4,
 "nbformat_minor": 4
}
